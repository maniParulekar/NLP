{
 "cells": [
  {
   "cell_type": "markdown",
   "metadata": {},
   "source": [
    "# Manisha Pednekar NLP Homework 1"
   ]
  },
  {
   "cell_type": "markdown",
   "metadata": {},
   "source": [
    "##  1.\tInstall Python (if you don’t have it already), and install NLTK.  \n"
   ]
  },
  {
   "cell_type": "markdown",
   "metadata": {},
   "source": [
    "#### Importing requied libraries"
   ]
  },
  {
   "cell_type": "code",
   "execution_count": 1,
   "metadata": {},
   "outputs": [],
   "source": [
    "### Importing requied libraries\n",
    "\n",
    "import nltk\n",
    "#nltk.download()\n",
    "#from nltk.book import *\n",
    "from nltk.corpus import PlaintextCorpusReader\n",
    "import wget\n",
    "from bs4 import BeautifulSoup\n",
    "import pandas as pd\n",
    "import seaborn as sns\n",
    "import matplotlib.pyplot as plt\n",
    "#from lxml import html\n",
    "\n",
    "import nltk, re, pprint\n",
    "from nltk import word_tokenize\n",
    "\n",
    "#import requests\n",
    "\n",
    "from requests_html import HTMLSession\n"
   ]
  },
  {
   "cell_type": "markdown",
   "metadata": {},
   "source": [
    "## 2.\tFollow the instructions in chapter 1 of Bird-Klein for implementing a “lexical diversity” scoring routine."
   ]
  },
  {
   "cell_type": "code",
   "execution_count": 2,
   "metadata": {},
   "outputs": [],
   "source": [
    "def lexical_diversity(text):\n",
    "    tokens = len(text)\n",
    "    types = len(set(text))\n",
    "    divScore = types / tokens\n",
    "    return divScore\n",
    "\n",
    "#def vocab_size(text):\n",
    "#    vocabSize = len(set(word.lower() for word in text if word.isalpha()))\n",
    "#    vocabSize\n",
    "    "
   ]
  },
  {
   "cell_type": "markdown",
   "metadata": {},
   "source": [
    "## 3.\tGo to http://www.gutenberg.org/wiki/Children%27s_Instructional_Books_(Bookshelf), and obtain three texts (of different grade levels) from the “Graded Readers” section. "
   ]
  },
  {
   "cell_type": "markdown",
   "metadata": {},
   "source": [
    "### <font color=blue> Web scraping </font>"
   ]
  },
  {
   "cell_type": "code",
   "execution_count": 3,
   "metadata": {},
   "outputs": [
    {
     "name": "stdout",
     "output_type": "stream",
     "text": [
      "/catalog/\n",
      "//www.gutenberg.org/ebooks/22766\n",
      "//www.gutenberg.org/ebooks/10834\n",
      "//www.gutenberg.org/ebooks/22425\n",
      "//www.gutenberg.org/ebooks/22727\n",
      "//www.gutenberg.org/ebooks/22917\n",
      "//www.gutenberg.org/ebooks/15626\n",
      "//www.gutenberg.org/ebooks/23941\n",
      "/wiki/Category:Categories\n",
      "/wiki/Children%27s_History_(Bookshelf)\n",
      "//www.gutenberg.org/ebooks/2284\n",
      "//www.gutenberg.org/ebooks/24409\n",
      "//www.gutenberg.org/ebooks/12655\n",
      "/wiki/Category:Bookshelf\n",
      "//www.gutenberg.org/ebooks/2441\n",
      "/wiki/File:BookIcon.png\n",
      "//www.gutenberg.org/ebooks/13539\n",
      "/wiki/Gutenberg:General_disclaimer\n",
      "//www.gutenberg.org/ebooks/10811\n",
      "//www.gutenberg.org/ebooks/18702\n",
      "//www.gutenberg.org/ebooks/14766\n",
      "//www.gutenberg.org/ebooks/15950\n",
      "//www.gutenberg.org/ebooks/18072\n",
      "//www.gutenberg.org/ebooks/16936\n",
      "//www.gutenberg.org/ebooks/10737\n",
      "//www.gutenberg.org/ebooks/16379\n",
      "//www.gutenberg.org/ebooks/19423\n",
      "//www.gutenberg.org/ebooks/24858\n",
      "//www.gutenberg.org/ebooks/22925\n",
      "//www.gutenberg.org/ebooks/16728\n",
      "//www.gutenberg.org/ebooks/14668\n",
      "//www.gutenberg.org/ebooks/23560\n",
      "//www.gutenberg.org/ebooks/17185\n",
      "//www.gutenberg.org/ebooks/18561\n",
      "//www.gutenberg.org/ebooks/18525\n",
      "//www.gutenberg.org/ebooks/24598\n",
      "//www.gutenberg.org/ebooks/24852\n",
      "//www.gutenberg.org/ebooks/22795\n",
      "//www.gutenberg.org/ebooks/13347\n",
      "//www.gutenberg.org/ebooks/24884\n",
      "//www.gutenberg.org/ebooks/21973\n",
      "//www.gutenberg.org/ebooks/24263\n",
      "//www.gutenberg.org/ebooks/24030\n",
      "//www.gutenberg.org/ebooks/19721\n",
      "//www.gutenberg.org/ebooks/24676\n",
      "//www.gutenberg.org/ebooks/9995\n",
      "//www.gutenberg.org/ebooks/8997\n",
      "//www.gutenberg.org/ebooks/3031\n",
      "//www.gutenberg.org/ebooks/23576\n",
      "/wiki/Gutenberg:About\n",
      "//www.gutenberg.org/ebooks/22420\n",
      "//www.gutenberg.org/ebooks/9106\n",
      "//www.gutenberg.org/ebooks/23424\n",
      "//www.gutenberg.org/ebooks/14880\n",
      "//www.gutenberg.org/ebooks/11023\n",
      "//www.gutenberg.org/ebooks/17365\n",
      "//www.gutenberg.org/ebooks/11313\n",
      "/wiki/Gutenberg:Contact_Information\n",
      "//www.gutenberg.org/ebooks/20107\n",
      "//www.gutenberg.org/ebooks/22245\n",
      "//www.gutenberg.org/ebooks/18790\n",
      "//www.gutenberg.org/ebooks/24072\n",
      "//www.gutenberg.org/ebooks/14640\n",
      "/wiki/Special:Categories\n",
      "//www.gutenberg.org/ebooks/24656\n",
      "//www.gutenberg.org/ebooks/19923\n",
      "http://www.ibiblio.org/index.html\n",
      "//www.gutenberg.org/ebooks/24644\n",
      "//www.gutenberg.org/ebooks/9078\n",
      "//www.gutenberg.org/ebooks/22600\n",
      "//www.gutenberg.org/ebooks/22408\n",
      "//www.gutenberg.org/ebooks/17160\n",
      "//www.gutenberg.org/ebooks/16667\n",
      "//www.gutenberg.org/ebooks/10726\n",
      "//www.gutenberg.org/ebooks/19469\n",
      "//www.gutenberg.org/ebooks/18217\n",
      "//www.gutenberg.org/ebooks/5742\n",
      "//www.gutenberg.org/ebooks/7425\n",
      "//www.gutenberg.org/ebooks/21948\n",
      "//www.gutenberg.org/ebooks/7841\n",
      "//www.gutenberg.org/ebooks/15170\n",
      "http://www.gutenberg.org/w/index.php?title=Children%27s_Instructional_Books_(Bookshelf)&oldid=16551\n",
      "//www.gutenberg.org/ebooks/18274\n",
      "/wiki/Gutenberg:Privacy_policy\n",
      "//www.gutenberg.org/ebooks/16751\n",
      "//www.gutenberg.org/ebooks/9542\n",
      "//www.gutenberg.org/ebooks/19381\n",
      "//www.gutenberg.org/ebooks/22911\n",
      "//www.gutenberg.org/ebooks/15577\n",
      "//www.gutenberg.org/ebooks/21783\n",
      "//www.gutenberg.org/ebooks/24703\n",
      "//www.gutenberg.org/ebooks/16140\n",
      "//www.gutenberg.org/ebooks/21266\n",
      "/wiki/Gutenberg:Project_Gutenberg_Needs_Your_Donation\n",
      "//www.gutenberg.org/ebooks/20557\n",
      "//www.gutenberg.org/ebooks/24125\n",
      "/wiki/Category:Children%27s_Bookshelf\n",
      "//www.gutenberg.org/ebooks/20698\n",
      "//www.gutenberg.org/ebooks/23667\n",
      "//www.gutenberg.org/ebooks/15040\n",
      "/wiki/Children%27s_Biography_(Bookshelf)\n",
      "//www.gutenberg.org/ebooks/15825\n",
      "//www.gutenberg.org/ebooks/22065\n",
      "//www.gutenberg.org/ebooks/18767\n",
      "//www.gutenberg.org/ebooks/15353\n",
      "/wiki/Main_Page\n",
      "//www.gutenberg.org/ebooks/15659\n",
      "//www.gutenberg.org/ebooks/16046\n",
      "//www.gutenberg.org/ebooks/13853\n",
      "//www.gutenberg.org/ebooks/24222\n",
      "//www.gutenberg.org/ebooks/24053\n",
      "//www.gutenberg.org/ebooks/23395\n",
      "//www.gutenberg.org/ebooks/7803\n",
      "//www.gutenberg.org/ebooks/23728\n",
      "//www.gutenberg.org/ebooks/20522\n",
      "//www.gutenberg.org/ebooks/14759\n",
      "//www.gutenberg.org/ebooks/6685\n",
      "//www.gutenberg.org/ebooks/18909\n"
     ]
    }
   ],
   "source": [
    "## Code taken from https://stackoverflow.com/questions/33817325/extracting-href-url-with-python-requests\n",
    "with HTMLSession() as s:\n",
    "    try:\n",
    "        r = s.get('http://www.gutenberg.org/wiki/Children%27s_Instructional_Books_(Bookshelf)')\n",
    "        links = r.html.links\n",
    "        for link in links:\n",
    "            print(link)\n",
    "    except:\n",
    "        pass\n",
    " "
   ]
  },
  {
   "cell_type": "markdown",
   "metadata": {},
   "source": [
    "### <font color=blue>Selecting only the McGuffy's 1 to 4 grade level eclectic series </font>"
   ]
  },
  {
   "cell_type": "code",
   "execution_count": 4,
   "metadata": {},
   "outputs": [
    {
     "data": {
      "text/plain": [
       "['http://www.gutenberg.org/cache/epub/14766/pg14766.txt',\n",
       " 'http://www.gutenberg.org/cache/epub/14668/pg14668.txt',\n",
       " 'http://www.gutenberg.org/cache/epub/14880/pg14880.txt',\n",
       " 'http://www.gutenberg.org/cache/epub/14640/pg14640.txt']"
      ]
     },
     "execution_count": 4,
     "metadata": {},
     "output_type": "execute_result"
    }
   ],
   "source": [
    "### selecting only the McGuffy's 1 to 4 grade level eclectic series\n",
    "ebooks = 'gutenberg.org/ebooks/'\n",
    "bookLnks = [book for book in links if ebooks in book]## only the ebooks links\n",
    "#book_links = [lnk.replace('ebooks', 'cache/epub') for lnk in book_links]\n",
    "## split the string into 2 parts from \"epub/\" and take take the second item from the list \n",
    "pgNums = [lnk.split(\"ebooks/\",1)[1] for lnk in bookLnks]\n",
    "#http://www.gutenberg.org/cache/epub/14640/pg14640.txt\n",
    "items = []\n",
    "for i in pgNums:\n",
    "    pgNum = int(i)\n",
    "    if pgNum > 14639 and pgNum<14881 and pgNum != 14759 :\n",
    "       #items.append(pgNum)\n",
    "       bkUrl = \"http://www.gutenberg.org/cache/epub/\" + i + \"/pg\" + i + \".txt\"\n",
    "       items.append(bkUrl)\n",
    "items\n",
    "       "
   ]
  },
  {
   "cell_type": "markdown",
   "metadata": {},
   "source": [
    "### <font color=blue>Downloading the McGuffy's 1 to 4 grade level eclectic series </font>"
   ]
  },
  {
   "cell_type": "code",
   "execution_count": 5,
   "metadata": {},
   "outputs": [],
   "source": [
    "j=0      \n",
    "for i in items:\n",
    "    j = j+1\n",
    "    wget.download(i, \"file\"+str(j)+\".txt\")\n",
    "    "
   ]
  },
  {
   "cell_type": "markdown",
   "metadata": {},
   "source": [
    "### <font color=blue>Removing the Licence information from the downloaded texts </font>"
   ]
  },
  {
   "cell_type": "code",
   "execution_count": 6,
   "metadata": {},
   "outputs": [
    {
     "name": "stdout",
     "output_type": "stream",
     "text": [
      "McGuffey's Third Eclectic \n",
      "*** START: FULL LICENSE ***\n",
      "\n",
      "THE FULL PROJECT GUTENBERG LICENSE\n",
      "PLEASE\n",
      "McGuffey's Second Eclectic\n",
      "*** START: FULL LICENSE ***\n",
      "\n",
      "THE FULL PROJECT GUTENBERG LICENSE\n",
      "PLEASE\n",
      "McGuffey's Fourth Eclectic\n",
      "*** START: FULL LICENSE ***\n",
      "\n",
      "THE FULL PROJECT GUTENBERG LICENSE\n",
      "PLEASE\n",
      "McGuffey's First Eclectic \n",
      "*** START: FULL LICENSE ***\n",
      "\n",
      "THE FULL PROJECT GUTENBERG LICENSE\n",
      "PLEASE\n"
     ]
    }
   ],
   "source": [
    "## code to REMOVE the Licence and create new text files with proper title and without license text\n",
    "for i in range(1,5):    \n",
    "    text = open('file'+str(i)+'.txt').read()\n",
    "    t= [m.start() for m in re.finditer('Title: ', text)]\n",
    "    u = t[0]\n",
    "    print(text[u+7:u+33])\n",
    "    title = text[u+7:u+33]\n",
    "    j= [m.start() for m in re.finditer('\\*\\*\\* START:', text)]\n",
    "    i = j[0]\n",
    "    print(text[i:i+70])\n",
    "    text = text[:i]\n",
    "    f = open(title+ '.txt','w')\n",
    "    f.write(text)\n",
    "    f.close()"
   ]
  },
  {
   "cell_type": "markdown",
   "metadata": {},
   "source": [
    "### <font color=blue>Calculating and tabulating the Lex Diversity, Vocab Size and LDvocabSizeCombined measures. </font>"
   ]
  },
  {
   "cell_type": "code",
   "execution_count": 7,
   "metadata": {},
   "outputs": [
    {
     "name": "stdout",
     "output_type": "stream",
     "text": [
      "0.1574 McGuffey's First Eclectic .txt\n",
      "1377 McGuffey's First Eclectic .txt\n",
      "0.1168 McGuffey's Fourth Eclectic.txt\n",
      "8572 McGuffey's Fourth Eclectic.txt\n",
      "0.1514 McGuffey's Second Eclectic.txt\n",
      "2987 McGuffey's Second Eclectic.txt\n",
      "0.1209 McGuffey's Third Eclectic .txt\n",
      "3674 McGuffey's Third Eclectic .txt\n"
     ]
    }
   ],
   "source": [
    "filesRegEx = \".*\\.txt\"\n",
    "fileNm = []\n",
    "vocabList = []\n",
    "lexDivList = []\n",
    "vocabLexDivList = [] \n",
    "corpus_root = \".\"    \n",
    "fileIdList = PlaintextCorpusReader(corpus_root, filesRegEx)\n",
    " \n",
    "fileIdList.fileids()\n",
    " \n",
    "for fileid in fileIdList.fileids():\n",
    "    \n",
    "    vocabSize = len(set(w.lower() for w in fileIdList.words(fileid)))\n",
    "     \n",
    "    wordList = fileIdList.words(fileid)\n",
    "    \n",
    "    lexDiv = lexical_diversity(wordList)\n",
    "    \n",
    "    vocabLDCombined = vocabSize / lexDiv\n",
    "    \n",
    "    print(round(lexDiv, 4), fileid)\n",
    "    \n",
    "    print(vocabSize, fileid)\n",
    "    \n",
    "    fileNm.append(fileid)\n",
    "    lexDivList.append(round(lexDiv, 4))\n",
    "    vocabList.append(vocabSize)\n",
    "    vocabLexDivList.append(round(vocabLDCombined,4))"
   ]
  },
  {
   "cell_type": "code",
   "execution_count": 8,
   "metadata": {},
   "outputs": [
    {
     "data": {
      "text/html": [
       "<div>\n",
       "<style scoped>\n",
       "    .dataframe tbody tr th:only-of-type {\n",
       "        vertical-align: middle;\n",
       "    }\n",
       "\n",
       "    .dataframe tbody tr th {\n",
       "        vertical-align: top;\n",
       "    }\n",
       "\n",
       "    .dataframe thead th {\n",
       "        text-align: right;\n",
       "    }\n",
       "</style>\n",
       "<table border=\"1\" class=\"dataframe\">\n",
       "  <thead>\n",
       "    <tr style=\"text-align: right;\">\n",
       "      <th></th>\n",
       "      <th>TextName</th>\n",
       "      <th>LexicalDiversity</th>\n",
       "      <th>VocabSize</th>\n",
       "      <th>LexDivVocabCombine</th>\n",
       "    </tr>\n",
       "  </thead>\n",
       "  <tbody>\n",
       "    <tr>\n",
       "      <th>0</th>\n",
       "      <td>McGuffey's First Eclectic .txt</td>\n",
       "      <td>0.1574</td>\n",
       "      <td>1377</td>\n",
       "      <td>8747.5875</td>\n",
       "    </tr>\n",
       "    <tr>\n",
       "      <th>1</th>\n",
       "      <td>McGuffey's Fourth Eclectic.txt</td>\n",
       "      <td>0.1168</td>\n",
       "      <td>8572</td>\n",
       "      <td>73420.5490</td>\n",
       "    </tr>\n",
       "    <tr>\n",
       "      <th>2</th>\n",
       "      <td>McGuffey's Second Eclectic.txt</td>\n",
       "      <td>0.1514</td>\n",
       "      <td>2987</td>\n",
       "      <td>19734.7116</td>\n",
       "    </tr>\n",
       "    <tr>\n",
       "      <th>3</th>\n",
       "      <td>McGuffey's Third Eclectic .txt</td>\n",
       "      <td>0.1209</td>\n",
       "      <td>3674</td>\n",
       "      <td>30380.1195</td>\n",
       "    </tr>\n",
       "  </tbody>\n",
       "</table>\n",
       "</div>"
      ],
      "text/plain": [
       "                         TextName  LexicalDiversity  VocabSize  \\\n",
       "0  McGuffey's First Eclectic .txt            0.1574       1377   \n",
       "1  McGuffey's Fourth Eclectic.txt            0.1168       8572   \n",
       "2  McGuffey's Second Eclectic.txt            0.1514       2987   \n",
       "3  McGuffey's Third Eclectic .txt            0.1209       3674   \n",
       "\n",
       "   LexDivVocabCombine  \n",
       "0           8747.5875  \n",
       "1          73420.5490  \n",
       "2          19734.7116  \n",
       "3          30380.1195  "
      ]
     },
     "execution_count": 8,
     "metadata": {},
     "output_type": "execute_result"
    }
   ],
   "source": [
    "df1 = pd.DataFrame({'TextName': fileNm,'LexicalDiversity':lexDivList,'VocabSize':vocabList, 'LexDivVocabCombine': vocabLexDivList})\n",
    "df1"
   ]
  },
  {
   "cell_type": "markdown",
   "metadata": {},
   "source": [
    "## 3. Report the lexical diversity score of each. Explain whether the result was surprising."
   ]
  },
  {
   "cell_type": "markdown",
   "metadata": {},
   "source": [
    "### <font color=blue> Q3 Answer: For this homework, I chose 4 texts from the Gutenberg website by author McGuffey from the First through Fourth grade levels. My hypothesis was that both the richness of the vocabulary, and the inventory of lexemes should increase gradually as the grade level of the text and hence the reading difficultly increases. The table and LexicalDiversity bar plot below show that the lexical diversity of the chosen texts range from 0.120 to 0.157 (dynamic range of 50%). The table and LexicalDiversity plot show that the lexical diversity decreases as the text grade level increases. The results are surprising since it contradicts my hypothesis. Type/token ratio does not capture the richness of the vocabulary. Both the numerator and the denominator increase with each new word introduced thus high frequency words (e.g. stop and site words) increase denominator disproportionately. Thus, the lexical diversity is not a good measure of overall reading difficulty of the text. </font> \n",
    "\n",
    "\n"
   ]
  },
  {
   "cell_type": "code",
   "execution_count": 15,
   "metadata": {},
   "outputs": [
    {
     "data": {
      "text/html": [
       "<div>\n",
       "<style scoped>\n",
       "    .dataframe tbody tr th:only-of-type {\n",
       "        vertical-align: middle;\n",
       "    }\n",
       "\n",
       "    .dataframe tbody tr th {\n",
       "        vertical-align: top;\n",
       "    }\n",
       "\n",
       "    .dataframe thead th {\n",
       "        text-align: right;\n",
       "    }\n",
       "</style>\n",
       "<table border=\"1\" class=\"dataframe\">\n",
       "  <thead>\n",
       "    <tr style=\"text-align: right;\">\n",
       "      <th></th>\n",
       "      <th>TextName</th>\n",
       "      <th>LexicalDiversity</th>\n",
       "      <th>VocabSize</th>\n",
       "      <th>LexDivVocabCombine</th>\n",
       "    </tr>\n",
       "  </thead>\n",
       "  <tbody>\n",
       "    <tr>\n",
       "      <th>0</th>\n",
       "      <td>McGuffey's First Eclectic .txt</td>\n",
       "      <td>0.1574</td>\n",
       "      <td>1377</td>\n",
       "      <td>8747.5875</td>\n",
       "    </tr>\n",
       "    <tr>\n",
       "      <th>2</th>\n",
       "      <td>McGuffey's Second Eclectic.txt</td>\n",
       "      <td>0.1514</td>\n",
       "      <td>2987</td>\n",
       "      <td>19734.7116</td>\n",
       "    </tr>\n",
       "    <tr>\n",
       "      <th>3</th>\n",
       "      <td>McGuffey's Third Eclectic .txt</td>\n",
       "      <td>0.1209</td>\n",
       "      <td>3674</td>\n",
       "      <td>30380.1195</td>\n",
       "    </tr>\n",
       "    <tr>\n",
       "      <th>1</th>\n",
       "      <td>McGuffey's Fourth Eclectic.txt</td>\n",
       "      <td>0.1168</td>\n",
       "      <td>8572</td>\n",
       "      <td>73420.5490</td>\n",
       "    </tr>\n",
       "  </tbody>\n",
       "</table>\n",
       "</div>"
      ],
      "text/plain": [
       "                         TextName  LexicalDiversity  VocabSize  \\\n",
       "0  McGuffey's First Eclectic .txt            0.1574       1377   \n",
       "2  McGuffey's Second Eclectic.txt            0.1514       2987   \n",
       "3  McGuffey's Third Eclectic .txt            0.1209       3674   \n",
       "1  McGuffey's Fourth Eclectic.txt            0.1168       8572   \n",
       "\n",
       "   LexDivVocabCombine  \n",
       "0           8747.5875  \n",
       "2          19734.7116  \n",
       "3          30380.1195  \n",
       "1          73420.5490  "
      ]
     },
     "execution_count": 15,
     "metadata": {},
     "output_type": "execute_result"
    }
   ],
   "source": [
    "df2 = df1.sort_values(by=['VocabSize'])\n",
    "df2"
   ]
  },
  {
   "cell_type": "code",
   "execution_count": 10,
   "metadata": {},
   "outputs": [],
   "source": [
    "df3 = df1.sort_values(by = 'LexicalDiversity')"
   ]
  },
  {
   "cell_type": "code",
   "execution_count": 11,
   "metadata": {},
   "outputs": [
    {
     "data": {
      "image/png": "[encoded data removed]",
      "text/plain": [
       "<Figure size 1008x1008 with 4 Axes>"
      ]
     },
     "metadata": {},
     "output_type": "display_data"
    }
   ],
   "source": [
    "nr_rows = 2\n",
    "nr_cols = 2\n",
    "\n",
    "fig, axs = plt.subplots(nr_rows, nr_cols, figsize=(nr_cols*7,nr_rows*7), squeeze=False)\n",
    "\n",
    "sns.set(style=\"whitegrid\")\n",
    "sns.barplot(x = 'LexicalDiversity', y = \"TextName\", data = df3, alpha=0.9,ax = axs[0][0])\n",
    "\n",
    "sns.barplot(x = 'VocabSize', y = \"TextName\", data = df2, alpha=0.9,ax = axs[0][1])\n",
    "#plt.xlabel('vocab size', fontsize=12)\n",
    "sns.barplot(x = 'LexDivVocabCombine', y = \"TextName\", data = df2, alpha=0.9,ax = axs[1][1])\n",
    "plt.xlabel('vocab and Lex Diversity', fontsize=12)\n",
    "\n",
    "plt.tight_layout()    \n",
    "plt.show()"
   ]
  },
  {
   "cell_type": "markdown",
   "metadata": {},
   "source": [
    "## 4.\tAlso compare the vocabulary size of the same three texts. Explain whether the result was surprising"
   ]
  },
  {
   "cell_type": "markdown",
   "metadata": {},
   "source": [
    "### <font color=blue> Q4 Answer: Vocabulary size represents the number of unique types. The table and plots above show that the vocabulary size of the chosen texts range from 1377 to 3674 (dynamic range of 600%). The table and VocabSize plot show that the vocabulary size increases monotonously as the text grade level increases. Thus, this measure meets the expectation that the richness of the vocabulary should increase as the grade level of the text increase. Thus, the results support the hypothesis.</font> \n"
   ]
  },
  {
   "cell_type": "markdown",
   "metadata": {},
   "source": [
    "## 5.\tWrite a paragraph arguing whether vocabulary size and lexical diversity in combination could be a better measure of text difficulty (or reading level) than either measure is by itself."
   ]
  },
  {
   "cell_type": "markdown",
   "metadata": {},
   "source": [
    "### <font color=blue> Q5 Answer: I divided Vocabulary size of a text by lexical diversity of that text to capture both the features of reading difficulty as composite measure. Vocab size/ LexDiv ranges from 8747.59 to 73420.55 (dynamic range 850%). The bar plot for this composite measure is named \"vocab and Lex Diversity\" above. I grouped all the different measure bar plots together for quick and easy data visualization. This composite index increases monotonously with increasing grade level of the text thus capturing the reading difficulty level of the text succinctly with higher sensitivity than the Lexical Diversity alone. We observed that the lexical diversity measured by the formula given in NLTK the chapter 1 is not a robust measure. </font>"
   ]
  },
  {
   "cell_type": "code",
   "execution_count": null,
   "metadata": {},
   "outputs": [],
   "source": []
  }
 ],
 "metadata": {
  "kernelspec": {
   "display_name": "Python 3",
   "language": "python",
   "name": "python3"
  },
  "language_info": {
   "codemirror_mode": {
    "name": "ipython",
    "version": 3
   },
   "file_extension": ".py",
   "mimetype": "text/x-python",
   "name": "python",
   "nbconvert_exporter": "python",
   "pygments_lexer": "ipython3",
   "version": "3.6.5"
  }
 },
 "nbformat": 4,
 "nbformat_minor": 2
}
